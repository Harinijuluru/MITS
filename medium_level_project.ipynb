{
  "nbformat": 4,
  "nbformat_minor": 0,
  "metadata": {
    "colab": {
      "provenance": [],
      "authorship_tag": "ABX9TyNmuT4A82l1r48y87iNEhXm",
      "include_colab_link": true
    },
    "kernelspec": {
      "name": "python3",
      "display_name": "Python 3"
    },
    "language_info": {
      "name": "python"
    }
  },
  "cells": [
    {
      "cell_type": "markdown",
      "metadata": {
        "id": "view-in-github",
        "colab_type": "text"
      },
      "source": [
        "<a href=\"https://colab.research.google.com/github/Harinijuluru/MITS/blob/main/medium_level_project.ipynb\" target=\"_parent\"><img src=\"https://colab.research.google.com/assets/colab-badge.svg\" alt=\"Open In Colab\"/></a>"
      ]
    },
    {
      "cell_type": "code",
      "execution_count": 1,
      "metadata": {
        "colab": {
          "base_uri": "https://localhost:8080/"
        },
        "id": "co3hHHNJW0FN",
        "outputId": "52570675-1762-4af9-fd0d-47522aaae7c6"
      },
      "outputs": [
        {
          "output_type": "stream",
          "name": "stdout",
          "text": [
            "Internship validated successfully.\n",
            "Internship created: {'domain': 'Software', 'start_date': '2025-06-01', 'end_date': '2025-08-01'}\n"
          ]
        }
      ],
      "source": [
        "from datetime import datetime\n",
        "from typing import List\n",
        "\n",
        "\n",
        "class Internship:\n",
        "    def __init__(self, domain: str, start_date: str, end_date: str):\n",
        "        self.domain = domain\n",
        "        self.start_date = start_date\n",
        "        self.end_date = end_date\n",
        "\n",
        "\n",
        "class InternshipService:\n",
        "    allowed_domains: List[str] = [\"Software\", \"Data Science\", \"Marketing\", \"Finance\", \"HR\"]\n",
        "    min_duration_days = 30\n",
        "    max_duration_days = 365\n",
        "\n",
        "    @staticmethod\n",
        "    def parse_date(date_str: str) -> datetime.date:\n",
        "        \"\"\"\n",
        "        Parse a string date in YYYY-MM-DD format to a datetime.date object.\n",
        "        Raises ValueError if the format is incorrect.\n",
        "        \"\"\"\n",
        "        return datetime.strptime(date_str, \"%Y-%m-%d\").date()\n",
        "\n",
        "    def validate_internship(self, internship: Internship):\n",
        "        # Validate domain\n",
        "        if internship.domain not in self.allowed_domains:\n",
        "            raise ValueError(f\"Invalid domain '{internship.domain}'. Allowed domains: {self.allowed_domains}\")\n",
        "\n",
        "        # Validate dates\n",
        "        try:\n",
        "            start = self.parse_date(internship.start_date)\n",
        "            end = self.parse_date(internship.end_date)\n",
        "        except ValueError as e:\n",
        "            raise ValueError(f\"Date format error: {e}\")\n",
        "\n",
        "        if end < start:\n",
        "            raise ValueError(\"End date cannot be before start date\")\n",
        "\n",
        "        duration = (end - start).days\n",
        "\n",
        "        if duration < self.min_duration_days:\n",
        "            raise ValueError(f\"Internship duration must be at least {self.min_duration_days} days\")\n",
        "\n",
        "        if duration > self.max_duration_days:\n",
        "            raise ValueError(f\"Internship duration must not exceed {self.max_duration_days} days\")\n",
        "\n",
        "        # Additional business rules can be added here\n",
        "        print(\"Internship validated successfully.\")\n",
        "\n",
        "    def create_internship(self, domain: str, start_date: str, end_date: str) -> Internship:\n",
        "        internship = Internship(domain, start_date, end_date)\n",
        "        self.validate_internship(internship)\n",
        "        # Here, you would typically save internship to database\n",
        "        return internship\n",
        "\n",
        "\n",
        "# Example usage:\n",
        "\n",
        "if __name__ == \"__main__\":\n",
        "    service = InternshipService()\n",
        "\n",
        "    try:\n",
        "        internship = service.create_internship(\"Software\", \"2025-06-01\", \"2025-08-01\")\n",
        "        print(\"Internship created:\", vars(internship))\n",
        "    except ValueError as err:\n",
        "        print(\"Validation error:\", err)\n"
      ]
    }
  ]
}